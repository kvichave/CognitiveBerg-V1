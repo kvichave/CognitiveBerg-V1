{
 "cells": [
  {
   "cell_type": "code",
   "execution_count": 1,
   "metadata": {},
   "outputs": [],
   "source": [
    "import pymongo"
   ]
  },
  {
   "cell_type": "code",
   "execution_count": 2,
   "metadata": {},
   "outputs": [],
   "source": [
    "client = pymongo.MongoClient(\"mongodb://localhost:27017/\")"
   ]
  },
  {
   "cell_type": "code",
   "execution_count": 3,
   "metadata": {},
   "outputs": [],
   "source": [
    "db=client['user']\n",
    "collection = db['conversations']"
   ]
  },
  {
   "cell_type": "code",
   "execution_count": 4,
   "metadata": {},
   "outputs": [
    {
     "data": {
      "text/plain": [
       "InsertOneResult(ObjectId('6772c92de77287c5387f4556'), acknowledged=True)"
      ]
     },
     "execution_count": 4,
     "metadata": {},
     "output_type": "execute_result"
    }
   ],
   "source": [
    "dictionary={\"name\":\"kunal\",\"sur\":\"vichave\"}\n",
    "collection.insert_one(dictionary)"
   ]
  },
  {
   "cell_type": "code",
   "execution_count": 15,
   "metadata": {},
   "outputs": [],
   "source": [
    "import json"
   ]
  },
  {
   "cell_type": "code",
   "execution_count": 21,
   "metadata": {},
   "outputs": [],
   "source": [
    "people = {\"data\":[\n",
    "    {\n",
    "        \"interviewer_name\": \"Rajesh Sharma, Engineering Manager\",\n",
    "        \"message\": \"Hello, I'm Rajesh Sharma, the Engineering Manager for the backend team. I'll be leading this interview today.\",\n",
    "        \"id\": 0\n",
    "    },\n",
    "    {\n",
    "        \"interviewer_name\": \"Emily Patel, Senior Backend Developer\",\n",
    "        \"message\": \"Hi, I'm Emily Patel, a Senior Backend Developer on the team. I'll be assessing your technical skills and project-related experiences.\",\n",
    "        \"id\": 1\n",
    "    },\n",
    "    {\n",
    "        \"interviewer_name\": \"David Lee, Technical Recruiter\",\n",
    "        \"message\": \"Hello, I'm David Lee, the Technical Recruiter who coordinated this process. I'll be observing your communication skills and taking notes during the session.\",\n",
    "        \"id\": 2\n",
    "    }]\n",
    "        }\n",
    "\n"
   ]
  },
  {
   "cell_type": "code",
   "execution_count": 22,
   "metadata": {},
   "outputs": [
    {
     "data": {
      "text/plain": [
       "InsertOneResult(ObjectId('6772a4abb0138302129a6527'), acknowledged=True)"
      ]
     },
     "execution_count": 22,
     "metadata": {},
     "output_type": "execute_result"
    }
   ],
   "source": [
    "collection.insert_one(people)"
   ]
  },
  {
   "cell_type": "code",
   "execution_count": 25,
   "metadata": {},
   "outputs": [
    {
     "data": {
      "text/plain": [
       "{'data': [{'role': 'user', 'content': 'hello\\n'},\n",
       "  {'role': 'assistant',\n",
       "   'content': '{\\n   \"data\":[\\n      {\\n         \"interviewer_name\": \"Rajesh Sharma, Engineering Manager\",\\n         \"message\": \"Hello, I\\'m Rajesh Sharma, the Engineering Manager for the backend team. I\\'ll be leading this interview today.\",\\n         \"id\": 0\\n      },\\n      {\\n         \"interviewer_name\": \"Emily Patel, Senior Backend Developer\",\\n         \"message\": \"Hi, I\\'m Emily Patel, a Senior Backend Developer on the team. I\\'ll be assessing your technical skills and project-related experiences.\",\\n         \"id\": 1\\n      },\\n      {\\n         \"interviewer_name\": \"David Lee, Technical Recruiter\",\\n         \"message\": \"Hello, I\\'m David Lee, the Technical Recruiter who coordinated this process. I\\'ll be observing your communication skills and taking notes during the session.\",\\n         \"id\": 2\\n      }\\n   ]\\n}'},\n",
       "  {'role': 'user', 'content': 'ok lets start\\n\\n'},\n",
       "  {'role': 'assistant',\n",
       "   'content': '{\\n   \"data\": [\\n      {\\n         \"interviewer_name\": \"Rajesh Sharma, Engineering Manager\",\\n         \"message\": \"Can you start by telling me a little about yourself and why you\\'re interested in this software development position?\",\\n         \"id\": 0\\n      }\\n   ]\\n}'},\n",
       "  {'role': 'user', 'content': 'no I dont want to'},\n",
       "  {'role': 'assistant',\n",
       "   'content': '{\\n   \"data\": [\\n      {\\n         \"interviewer_name\": \"David Lee, Technical Recruiter\",\\n         \"message\": \"That\\'s okay, it\\'s not mandatory. Can I ask, what are your expectations from this interview today?\",\\n         \"id\": 2\\n      }\\n   ]\\n}'},\n",
       "  {'role': 'user', 'content': 'next question'},\n",
       "  {'role': 'assistant',\n",
       "   'content': '{\\n   \"data\": [\\n      {\\n         \"interviewer_name\": \"Emily Patel, Senior Backend Developer\",\\n         \"message\": \"Let\\'s talk about programming languages. What languages have you worked with in the past, and do you have a preference for any particular language?\",\\n         \"id\": 1\\n      }\\n   ]\\n}'}]}"
      ]
     },
     "execution_count": 25,
     "metadata": {},
     "output_type": "execute_result"
    }
   ],
   "source": [
    "data={\"data\":[{\n",
    "            \"role\": \"user\",\n",
    "            \"content\": \"hello\\n\"\n",
    "        },\n",
    "        {\n",
    "            \"role\": \"assistant\",\n",
    "            \"content\": \"{\\n   \\\"data\\\":[\\n      {\\n         \\\"interviewer_name\\\": \\\"Rajesh Sharma, Engineering Manager\\\",\\n         \\\"message\\\": \\\"Hello, I'm Rajesh Sharma, the Engineering Manager for the backend team. I'll be leading this interview today.\\\",\\n         \\\"id\\\": 0\\n      },\\n      {\\n         \\\"interviewer_name\\\": \\\"Emily Patel, Senior Backend Developer\\\",\\n         \\\"message\\\": \\\"Hi, I'm Emily Patel, a Senior Backend Developer on the team. I'll be assessing your technical skills and project-related experiences.\\\",\\n         \\\"id\\\": 1\\n      },\\n      {\\n         \\\"interviewer_name\\\": \\\"David Lee, Technical Recruiter\\\",\\n         \\\"message\\\": \\\"Hello, I'm David Lee, the Technical Recruiter who coordinated this process. I'll be observing your communication skills and taking notes during the session.\\\",\\n         \\\"id\\\": 2\\n      }\\n   ]\\n}\"\n",
    "        },\n",
    "        {\n",
    "            \"role\": \"user\",\n",
    "            \"content\": \"ok lets start\\n\\n\"\n",
    "        },\n",
    "        {\n",
    "            \"role\": \"assistant\",\n",
    "            \"content\": \"{\\n   \\\"data\\\": [\\n      {\\n         \\\"interviewer_name\\\": \\\"Rajesh Sharma, Engineering Manager\\\",\\n         \\\"message\\\": \\\"Can you start by telling me a little about yourself and why you're interested in this software development position?\\\",\\n         \\\"id\\\": 0\\n      }\\n   ]\\n}\"\n",
    "        },\n",
    "        {\n",
    "            \"role\": \"user\",\n",
    "            \"content\": \"no I dont want to\"\n",
    "        },\n",
    "        {\n",
    "            \"role\": \"assistant\",\n",
    "            \"content\": \"{\\n   \\\"data\\\": [\\n      {\\n         \\\"interviewer_name\\\": \\\"David Lee, Technical Recruiter\\\",\\n         \\\"message\\\": \\\"That's okay, it's not mandatory. Can I ask, what are your expectations from this interview today?\\\",\\n         \\\"id\\\": 2\\n      }\\n   ]\\n}\"\n",
    "        },\n",
    "        {\n",
    "            \"role\": \"user\",\n",
    "            \"content\": \"next question\"\n",
    "        },\n",
    "        {\n",
    "            \"role\": \"assistant\",\n",
    "            \"content\": \"{\\n   \\\"data\\\": [\\n      {\\n         \\\"interviewer_name\\\": \\\"Emily Patel, Senior Backend Developer\\\",\\n         \\\"message\\\": \\\"Let's talk about programming languages. What languages have you worked with in the past, and do you have a preference for any particular language?\\\",\\n         \\\"id\\\": 1\\n      }\\n   ]\\n}\"\n",
    "        }\n",
    "    ]}\n",
    "data"
   ]
  },
  {
   "cell_type": "code",
   "execution_count": 26,
   "metadata": {},
   "outputs": [
    {
     "data": {
      "text/plain": [
       "InsertOneResult(ObjectId('6772a596b0138302129a6528'), acknowledged=True)"
      ]
     },
     "execution_count": 26,
     "metadata": {},
     "output_type": "execute_result"
    }
   ],
   "source": [
    "collection.insert_one(data)"
   ]
  },
  {
   "cell_type": "code",
   "execution_count": 28,
   "metadata": {},
   "outputs": [
    {
     "data": {
      "text/plain": [
       "InsertOneResult(1, acknowledged=True)"
      ]
     },
     "execution_count": 28,
     "metadata": {},
     "output_type": "execute_result"
    }
   ],
   "source": [
    "collection.insert_one({\"_id\":1,\"name\":\"kunal\"})"
   ]
  },
  {
   "cell_type": "code",
   "execution_count": 32,
   "metadata": {},
   "outputs": [
    {
     "data": {
      "text/plain": [
       "UpdateResult({'n': 2, 'nModified': 2, 'ok': 1.0, 'updatedExisting': True}, acknowledged=True)"
      ]
     },
     "execution_count": 32,
     "metadata": {},
     "output_type": "execute_result"
    }
   ],
   "source": [
    "prev={\"name\":\"kunal\"}\n",
    "next={\"$set\":{\"surname\":\"Mahajan\"}}\n",
    "collection.update_many(prev,next)"
   ]
  },
  {
   "cell_type": "code",
   "execution_count": 34,
   "metadata": {},
   "outputs": [
    {
     "data": {
      "text/plain": [
       "DeleteResult({'n': 1, 'ok': 1.0}, acknowledged=True)"
      ]
     },
     "execution_count": 34,
     "metadata": {},
     "output_type": "execute_result"
    }
   ],
   "source": [
    "collection.delete_one({\"name\":\"kunal\"})"
   ]
  },
  {
   "cell_type": "code",
   "execution_count": null,
   "metadata": {},
   "outputs": [],
   "source": []
  }
 ],
 "metadata": {
  "kernelspec": {
   "display_name": "pyenv",
   "language": "python",
   "name": "python3"
  },
  "language_info": {
   "codemirror_mode": {
    "name": "ipython",
    "version": 3
   },
   "file_extension": ".py",
   "mimetype": "text/x-python",
   "name": "python",
   "nbconvert_exporter": "python",
   "pygments_lexer": "ipython3",
   "version": "3.12.3"
  }
 },
 "nbformat": 4,
 "nbformat_minor": 2
}
