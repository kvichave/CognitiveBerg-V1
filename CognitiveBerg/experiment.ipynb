{
 "cells": [
  {
   "cell_type": "code",
   "execution_count": 41,
   "metadata": {},
   "outputs": [],
   "source": [
    "data={'data': '{\"data\":{\"birthday\":\"\",\"created_at\":1654012591514,\"email_addresses\":[{\"email_address\":\"example@example.org\",\"id\":\"idn_29w83yL7CwVlJXylYLxcslromF1\",\"linked_to\":[],\"object\":\"email_address\",\"reserved\":true,\"verification\":{\"attempts\":null,\"expire_at\":null,\"status\":\"verified\",\"strategy\":\"admin\"}}],\"external_accounts\":[],\"external_id\":null,\"first_name\":\"Example\",\"gender\":\"\",\"id\":\"user_29w83sxmDNGwOuEthce5gg56FcC\",\"image_url\":\"https://img.clerk.com/xxxxxx\",\"last_name\":null,\"last_sign_in_at\":null,\"object\":\"user\",\"password_enabled\":true,\"phone_numbers\":[],\"primary_email_address_id\":\"idn_29w83yL7CwVlJXylYLxcslromF1\",\"primary_phone_number_id\":null,\"primary_web3_wallet_id\":null,\"private_metadata\":{},\"profile_image_url\":\"https://www.gravatar.com/avatar?d=mp\",\"public_metadata\":{},\"two_factor_enabled\":false,\"unsafe_metadata\":{},\"updated_at\":1654012824306,\"username\":null,\"web3_wallets\":[]},\"event_attributes\":{\"http_request\":{\"client_ip\":\"0.0.0.0\",\"user_agent\":\"Mozilla/5.0 (Macintosh; Intel Mac OS X 10_15_7) AppleWebKit/537.36 (KHTML, like Gecko) Chrome/128.0.0.0 Safari/537.36\"}},\"object\":\"event\",\"timestamp\":1654012824306,\"type\":\"user.updated\"}'}"
   ]
  },
  {
   "cell_type": "code",
   "execution_count": 42,
   "metadata": {},
   "outputs": [],
   "source": [
    "import json"
   ]
  },
  {
   "cell_type": "code",
   "execution_count": 43,
   "metadata": {},
   "outputs": [],
   "source": [
    "def extract(data):\n",
    "    requestType=data['type']\n",
    "\n",
    "    if requestType == \"user.deleted\":\n",
    "            clerkId=data['data']['id']\n",
    "            clerkName=\"NA\"\n",
    "            clerkEmail=\"NA\"\n",
    "            return(clerkId,clerkName,clerkEmail,requestType)\n",
    "    clerkId=data['data']['id']\n",
    "\n",
    "    clerkName=data['data']['first_name']\n",
    "    clerkEmail=data['data']['email_addresses'][0]['email_address']\n",
    "    return (clerkId,clerkName,clerkEmail,requestType)\n"
   ]
  },
  {
   "cell_type": "code",
   "execution_count": 47,
   "metadata": {},
   "outputs": [
    {
     "ename": "TypeError",
     "evalue": "string indices must be integers, not 'str'",
     "output_type": "error",
     "traceback": [
      "\u001b[0;31m---------------------------------------------------------------------------\u001b[0m",
      "\u001b[0;31mTypeError\u001b[0m                                 Traceback (most recent call last)",
      "Cell \u001b[0;32mIn[47], line 1\u001b[0m\n\u001b[0;32m----> 1\u001b[0m \u001b[43mdata\u001b[49m\u001b[43m[\u001b[49m\u001b[38;5;124;43m'\u001b[39;49m\u001b[38;5;124;43mdata\u001b[39;49m\u001b[38;5;124;43m'\u001b[39;49m\u001b[43m]\u001b[49m\u001b[43m[\u001b[49m\u001b[38;5;124;43m'\u001b[39;49m\u001b[38;5;124;43mtype\u001b[39;49m\u001b[38;5;124;43m'\u001b[39;49m\u001b[43m]\u001b[49m\n",
      "\u001b[0;31mTypeError\u001b[0m: string indices must be integers, not 'str'"
     ]
    }
   ],
   "source": [
    "data['data']"
   ]
  },
  {
   "cell_type": "code",
   "execution_count": 49,
   "metadata": {},
   "outputs": [
    {
     "data": {
      "text/plain": [
       "'user.updated'"
      ]
     },
     "execution_count": 49,
     "metadata": {},
     "output_type": "execute_result"
    }
   ],
   "source": [
    "newdata=json.loads(data['data'])\n",
    "\n"
   ]
  },
  {
   "cell_type": "code",
   "execution_count": 1,
   "metadata": {},
   "outputs": [],
   "source": [
    "\n",
    "data={'data': {'birthday': '', 'created_at': 1654012591514, 'email_addresses': [{'email_address': 'example@example.org', 'id': 'idn_29w83yL7CwVlJXylYLxcslromF1', 'linked_to': [], 'object': 'email_address', 'verification': {'status': 'verified', 'strategy': 'ticket'}}], 'external_accounts': [], 'external_id': '567772', 'first_name': 'Example', 'gender': '', 'id': 'user_29w83sxmDNGwOuEthce5gg56FcC', 'image_url': 'https://img.clerk.com/xxxxxx', 'last_name': 'Example', 'last_sign_in_at': 1654012591514, 'object': 'user', 'password_enabled': True, 'phone_numbers': [], 'primary_email_address_id': 'idn_29w83yL7CwVlJXylYLxcslromF1', 'primary_phone_number_id': None, 'primary_web3_wallet_id': None, 'private_metadata': {}, 'profile_image_url': 'https://www.gravatar.com/avatar?d=mp', 'public_metadata': {}, 'two_factor_enabled': False, 'unsafe_metadata': {}, 'updated_at': 1654012591835, 'username': None, 'web3_wallets': []}, 'event_attributes': {'http_request': {'client_ip': '0.0.0.0', 'user_agent': 'Mozilla/5.0 (Macintosh; Intel Mac OS X 10_15_7) AppleWebKit/537.36 (KHTML, like Gecko) Chrome/128.0.0.0 Safari/537.36'}}, 'object': 'event', 'timestamp': 1654012591835, 'type': 'user.created'}"
   ]
  },
  {
   "cell_type": "code",
   "execution_count": 11,
   "metadata": {},
   "outputs": [
    {
     "data": {
      "text/plain": [
       "'user.created'"
      ]
     },
     "execution_count": 11,
     "metadata": {},
     "output_type": "execute_result"
    }
   ],
   "source": [
    "data['data']['id']\n",
    "data['data']['first_name']\n",
    "data['data']['email_addresses'][0]['email_address']\n",
    "data['type']"
   ]
  },
  {
   "cell_type": "code",
   "execution_count": 3,
   "metadata": {},
   "outputs": [
    {
     "data": {
      "text/plain": [
       "'session.created'"
      ]
     },
     "execution_count": 3,
     "metadata": {},
     "output_type": "execute_result"
    }
   ],
   "source": [
    "d={'data': {'abandon_at': 1656606318265, 'client_id': 'client_29wBS3h1zhE1BsEK2dg9oyypfYk', 'created_at': 1654014318265, 'expire_at': 1654619118265, 'id': 'sess_29wBYxnMCQU2KIs6V3ZPOJCPUXx', 'last_active_at': 1654014318265, 'object': 'session', 'status': 'active', 'updated_at': 1654014318503, 'user_id': 'user_29wBMCtzATuFJut8jO2VNTVekS4'}, 'event_attributes': {'http_request': {'client_ip': '0.0.0.0', 'user_agent': 'Mozilla/5.0 (Macintosh; Intel Mac OS X 10_15_7) AppleWebKit/537.36 (KHTML, like Gecko) Chrome/128.0.0.0 Safari/537.36'}}, 'object': 'event', 'timestamp': 1654014318503, 'type': 'session.created'}\n",
    "\n",
    "\n",
    "d['data']['user_id']\n",
    "\n",
    "d['type']"
   ]
  },
  {
   "cell_type": "code",
   "execution_count": null,
   "metadata": {},
   "outputs": [],
   "source": [
    "{'pathRoot': '/me', 'id': 'user_2nKvfjz5RHE5JEdlpcD2h2isN0U', 'externalId': None, 'username': None, 'emailAddresses': [{'pathRoot': '/me/email_addresses', 'emailAddress': 'kunalvichave258@gmail.com', 'linkedTo': [{'pathRoot': '', 'id': 'idn_2nKvfdzSIZHTCXzlpApiI2R1rLS', 'type': 'oauth_google'}], 'id': 'idn_2nKvfgRRyRVD8pX6wjzm669iDKE', 'verification': {'pathRoot': '', 'status': 'verified', 'strategy': 'from_oauth_google', 'nonce': None, 'message': None, 'externalVerificationRedirectURL': None, 'attempts': None, 'expireAt': '2024-10-18T07:27:13.306Z', 'error': None}}], 'phoneNumbers': [], 'web3Wallets': [], 'externalAccounts': [{'pathRoot': '/me/external_accounts', 'providerUserId': '102114735811132539143', 'emailAddress': 'kunalvichave258@gmail.com', 'approvedScopes': 'email https://www.googleapis.com/auth/userinfo.email https://www.googleapis.com/auth/userinfo.profile openid profile', 'firstName': 'Kunal', 'lastName': '', 'imageUrl': 'https://img.clerk.com/eyJ0eXBlIjoicHJveHkiLCJzcmMiOiJodHRwczovL2xoMy5nb29nbGV1c2VyY29udGVudC5jb20vYS9BQ2c4b2NLMk91dnJYbF85blREVWxnYzllTV9uLWlnY3VZNnhFLVd1cjMzVm9YUy1sZ2p4S2FGeD1zMTAwMC1jIiwicyI6IkcrSTRpVnFNUStyTWR3RVZkWVdQeDhvV05Cd1RZK3ZhcTZPYTlTQXhsaWsifQ', 'username': None, 'publicMetadata': {}, 'label': None, 'verification': {'pathRoot': '', 'status': 'verified', 'strategy': 'oauth_google', 'nonce': None, 'message': None, 'externalVerificationRedirectURL': None, 'attempts': None, 'expireAt': '2024-10-12T12:14:42.173Z', 'error': {'code': 'external_account_missing_refresh_token', 'message': 'Missing refresh token', 'longMessage': \"We cannot refresh your OAuth access token because the server didn't provide a refresh token. Please re-connect your account.\", 'meta': {}}}, 'id': 'eac_2nKvfgR3JXsJlIvR26nRmR93ZGk', 'identificationId': 'idn_2nKvfdzSIZHTCXzlpApiI2R1rLS', 'provider': 'google'}], 'passkeys': [], 'samlAccounts': [], 'organizationMemberships': [], 'passwordEnabled': False, 'firstName': 'Kunal', 'lastName': None, 'fullName': 'Kunal', 'primaryEmailAddressId': 'idn_2nKvfgRRyRVD8pX6wjzm669iDKE', 'primaryEmailAddress': {'pathRoot': '/me/email_addresses', 'emailAddress': 'kunalvichave258@gmail.com', 'linkedTo': [{'pathRoot': '', 'id': 'idn_2nKvfdzSIZHTCXzlpApiI2R1rLS', 'type': 'oauth_google'}], 'id': 'idn_2nKvfgRRyRVD8pX6wjzm669iDKE', 'verification': {'pathRoot': '', 'status': 'verified', 'strategy': 'from_oauth_google', 'nonce': None, 'message': None, 'externalVerificationRedirectURL': None, 'attempts': None, 'expireAt': '2024-10-18T07:27:13.306Z', 'error': None}}, 'primaryPhoneNumberId': None, 'primaryPhoneNumber': None, 'primaryWeb3WalletId': None, 'primaryWeb3Wallet': None, 'imageUrl': 'https://img.clerk.com/eyJ0eXBlIjoicHJveHkiLCJzcmMiOiJodHRwczovL2ltYWdlcy5jbGVyay5kZXYvb2F1dGhfZ29vZ2xlL2ltZ18ybkt2ZmU4QjQ4WHM3T1p2TGFrUlZudlNtTHYifQ', 'hasImage': True, 'twoFactorEnabled': False, 'totpEnabled': False, 'backupCodeEnabled': False, 'publicMetadata': {}, 'unsafeMetadata': {}, 'createOrganizationEnabled': True, 'deleteSelfEnabled': True, 'lastSignInAt': '2024-10-18T06:43:27.141Z', 'updatedAt': '2024-10-18T06:43:27.177Z', 'createdAt': '2024-10-12T12:04:46.594Z', 'cachedSessionsWithActivities': None}"
   ]
  },
  {
   "cell_type": "code",
   "execution_count": 13,
   "metadata": {},
   "outputs": [],
   "source": [
    "import os,json\n",
    "history=[\n",
    "  {\n",
    "    \"interviewer_name\": \"Rajesh Sharma, Engineering Manager\",\n",
    "    \"message\": \"Hello everyone, I'm Rajesh Sharma, the Engineering Manager for the backend team. I'll be leading this interview today.\",\n",
    "    \"id\": 0\n",
    "  },\n",
    "  {\n",
    "    \"interviewer_name\": \"Emily Patel, Senior Backend Developer\",\n",
    "    \"message\": \"Hi, I'm Emily Patel, a Senior Backend Developer on the team. I'll be evaluating your technical skills and experience.\",\n",
    "    \"id\": 1\n",
    "  },\n",
    "  {\n",
    "    \"interviewer_name\": \"David Lee, Technical Recruiter\",\n",
    "    \"message\": \"Hello, I'm David Lee, the Technical Recruiter who worked with you to schedule this interview. I'll be taking notes and ensuring the process runs smoothly. Are You comfortable with the interview?\",\n",
    "    \"id\": 2\n",
    "  },\n",
    "  {\n",
    "    \"interviewer_name\": \"David Lee, Technical Recruiter\",\n",
    "    \"message\": \"Great. Let's start with a brief introduction of yourself and your experience.\",\n",
    "    \"id\": 2\n",
    "  },\n",
    "  {\n",
    "    \"interviewer_name\": \"Applicant\",\n",
    "    \"message\": \"I'm a computer engineering fresher with experience in Python and backend development, primarily using Flask. I've built simple REST APIs, integrated databases like SQLite and PostgreSQL, and handled tasks such as user authentication and API design. I’ve also explored database migrations using Flask-Migrate to ensure smooth schema updates without data loss. I'm continuously learning more about backend architecture, deployment, and scaling applications.\",\n",
    "    \"id\": \"applicant\"\n",
    "  },\n",
    "  {\n",
    "    \"interviewer_name\": \"Emily Patel, Senior Backend Developer\",\n",
    "    \"message\": \"Thank you for the introduction. Can you tell me more about your experience with Flask-Migrate? How did it help you manage database schema changes?\",\n",
    "    \"id\": 1\n",
    "  },\n",
    "  {\n",
    "    \"interviewer_name\": \"Applicant\",\n",
    "    \"message\": \"In my experience, Flask-Migrate was a crucial tool for managing database schema changes smoothly. It allowed me to handle modifications in the database structure, like adding columns or altering tables, without losing data. Before using Flask-Migrate, I faced issues manually updating the SQLite database, which risked breaking the app or causing data loss.\\n\\nBy integrating Flask-Migrate, I could automatically generate migration scripts after updating my models, using the command flask db migrate. This script detailed the SQL commands needed for the schema update. Running flask db upgrade applied the changes to the database incrementally, ensuring existing data was preserved.\\n\\nAdditionally, it allowed me to roll back changes easily using flask db downgrade, which provided flexibility and safety during development. Flask-Migrate simplified the process of evolving my database schema, making it much easier to adapt as the application grew.\",\n",
    "    \"id\": \"applicant\"\n",
    "  },\n",
    "  {\n",
    "    \"interviewer_name\": \"Rajesh Sharma, Engineering Manager\",\n",
    "    \"message\": \"That’s great to hear. You mentioned experience in building REST APIs. Can you elaborate on your approach to designing and securing them?\",\n",
    "    \"id\": 0\n",
    "  },\n",
    "  {\n",
    "    \"interviewer_name\": \"Applicant\",\n",
    "    \"message\": \"When building REST APIs, I focus on clear design and security. I structure the API around resources, ensuring logical and consistent routes, such as GET /tasks for fetching tasks and POST /tasks for creating new ones. I map actions to the correct HTTP methods (GET, POST, PUT, DELETE) and return appropriate status codes, like 200 for success and 404 for not found. I use JSON for requests and responses to maintain data consistency, employing libraries like Flask-WTF or Marshmallow for input validation. To future-proof the API, I implement versioning in the URLs (e.g., /api/v1/tasks), which allows for changes without breaking older clients. For security, I focus on implementing authentication (e.g., JWT or OAuth) to ensure only authorized users can access or modify resources. Overall, this approach helps create a robust, user-friendly, and secure API.\",\n",
    "    \"id\": \"applicant\"\n",
    "  },\n",
    "  {\n",
    "    \"interviewer_name\": \"Emily Patel, Senior Backend Developer\",\n",
    "    \"message\": \"Could you share an example of a challenging backend project you’ve worked on and how you overcame the technical complexities?\",\n",
    "    \"id\": 1\n",
    "  },\n",
    "  {\n",
    "    \"interviewer_name\": \"Applicant\",\n",
    "    \"message\": \"One challenging backend project I worked on was a task management system that required integrating user authentication and managing multiple user roles, such as admin and regular users. The complexity arose from ensuring that users could only access their own tasks while allowing admins to manage all tasks. I implemented JWT (JSON Web Tokens) for secure user authentication but faced challenges with token expiration and renewal. To resolve this, I set up middleware to verify tokens on protected routes and created a refresh token mechanism for seamless user experience. Managing role-based access control was also complex; I defined user roles in the database and implemented checks in the API routes to restrict regular users to their tasks while granting admins full access. Additionally, I needed to establish proper relationships between users and tasks using SQLAlchemy, which involved optimizing queries for performance. Extensive testing was crucial, so I used Postman for manual tests and wrote unit tests to automate checks for API endpoints. This experience taught me the importance of thorough planning, testing, and maintaining clear documentation, leading to a robust and secure application.\",\n",
    "    \"id\": \"applicant\"\n",
    "  },\n",
    "  {\n",
    "    \"interviewer_name\": \"Rajesh Sharma, Engineering Manager\",\n",
    "    \"message\": \"Thank you for sharing that. Based on your experience with REST APIs, how would you approach designing a scalable and efficient API for a real-time messaging application?\",\n",
    "    \"id\": 0\n",
    "  },\n",
    "  {\n",
    "    \"interviewer_name\": \"Applicant\",\n",
    "    \"message\": \"Designing a scalable and efficient API for a real-time messaging application involves several key considerations. First, adopting a microservices architecture allows for separating concerns, such as user management, messaging, and notifications, enabling independent scaling of services based on demand. Implementing WebSockets facilitates real-time communication, providing instant message delivery and updates more efficiently than traditional polling methods. The API should be resource-oriented, featuring endpoints like /messages, /users, and /rooms, while adhering to RESTful principles and incorporating rate limiting to prevent abuse. For data management, a NoSQL database, like MongoDB, is beneficial for flexible schema and fast reads/writes, and integrating a message queue (such as RabbitMQ or Kafka) helps handle message delivery asynchronously during high traffic. Scalability can be achieved through load balancing to distribute traffic across multiple instances and ensuring that the API supports horizontal scaling by deploying additional service instances as needed. Security measures should include implementing OAuth2 or JWT for secure user authentication and authorization, as well as using TLS for data in transit and potentially encrypting sensitive data at rest. Monitoring and logging are essential, utilizing tools like Prometheus or Grafana for performance monitoring and structured logging for better traceability. Lastly, conducting load tests will help evaluate how the API handles high traffic and identify potential bottlenecks. By focusing on these aspects, a scalable and efficient API can be created to meet the demands of a real-time messaging application while ensuring a smooth user experience.\",\n",
    "    \"id\": \"applicant\"\n",
    "  },\n",
    "  {\n",
    "    \"interviewer_name\": \"Emily Patel, Senior Backend Developer\",\n",
    "    \"message\": \"That's a very comprehensive answer.  Let's switch gears a bit. Tell me about a time when you had to debug a complex backend issue. What steps did you take to identify and resolve the problem?\",\n",
    "    \"id\": 1\n",
    "  },\n",
    "  {\n",
    "    \"interviewer_name\": \"Applicant\",\n",
    "    \"message\": \"I once encountered a complex backend issue in a task management application where users reported intermittent failures when trying to retrieve their tasks. To address this, I followed a systematic debugging process.\\n\\nFirst, I gathered information from the users, asking for specific details about the error messages and the actions they were performing. Next, I examined the server logs for any anomalies or patterns that coincided with the reported issues. I found that the errors occurred during peak usage times, suggesting potential performance bottlenecks.\\n\\nTo further investigate, I used profiling tools to monitor database queries and response times. I discovered that certain queries were taking longer than expected due to a lack of proper indexing on the tasks table. After adding the necessary indexes, I reran tests to observe improvements in query performance.\\n\\nAdditionally, I implemented caching using Redis to store frequently accessed data, reducing database load. After making these adjustments, I conducted load tests to simulate high traffic and confirmed that the application could handle requests without failures.\\n\\nFinally, I deployed the changes and monitored the application closely for a few days to ensure stability. This experience reinforced the importance of thorough logging, monitoring, and proactive performance optimization in maintaining a robust backend system.\",\n",
    "    \"id\": \"applicant\"\n",
    "  },\n",
    "  {\n",
    "    \"interviewer_name\": \"Rajesh Sharma, Engineering Manager\",\n",
    "    \"message\": \"Excellent. You've demonstrated a solid understanding of backend development principles and practical problem-solving. We're nearing the end of the interview. Do you have any questions for us?\",\n",
    "    \"id\": 0\n",
    "  },\n",
    "  {\n",
    "    \"interviewer_name\": \"Applicant\",\n",
    "    \"message\": \"Thank you for the opportunity to share my experiences! I do have a couple of questions: How does your team approach collaboration on backend projects? Are there specific tools or practices you use to ensure effective communication and maintain code quality? Additionally, I’d like to know what opportunities for learning and professional development your organization provides, particularly regarding exploring new technologies or enhancing skills. These insights would help me understand the team dynamic and growth potential within your organization.\",\n",
    "    \"id\": \"applicant\"\n",
    "  },\n",
    "  {\n",
    "    \"interviewer_name\": \"Rajesh Sharma, Engineering Manager\",\n",
    "    \"message\": \"Those are great questions! We strongly believe in a collaborative environment where everyone has a voice and can learn from each other. We use a combination of tools and practices to foster effective communication and maintain code quality.  For collaboration, we rely heavily on Git for version control and GitHub for code hosting. We have regular code reviews, which are a great way to share knowledge and ensure consistency in our coding style. We use a combination of tools for code quality, including linters and static analysis tools. We also promote test-driven development to ensure the quality of our code.\",\n",
    "    \"id\": 0\n",
    "  },\n",
    "  {\n",
    "    \"interviewer_name\": \"Emily Patel, Senior Backend Developer\",\n",
    "    \"message\": \"Regarding your question about learning and development opportunities, we encourage and support our engineers in exploring new technologies and enhancing their skills. We offer opportunities for internal workshops and training sessions, as well as reimbursement for external courses and conferences.  We also have a dedicated time for research and experimentation, allowing engineers to delve into new technologies that might not be directly related to their current projects. We strongly believe in continuous learning, and we want to provide a supportive environment where our engineers can grow their skills and contribute to the team's success.\",\n",
    "    \"id\": 1\n",
    "  },\n",
    "  {\n",
    "    \"interviewer_name\": \"David Lee, Technical Recruiter\",\n",
    "    \"message\": \"Thank you for your time today. We'll be in touch soon with our decision.  Is there anything else we can answer for you?\",\n",
    "    \"id\": 2\n",
    "  },\n",
    "  {\n",
    "    \"interviewer_name\": \"Applicant\",\n",
    "    \"message\": \"no sir, hank you\",\n",
    "    \"id\": \"applicant\"\n",
    "  },\n",
    "  {\n",
    "    \"interviewer_name\": \"David Lee, Technical Recruiter\",\n",
    "    \"message\": \"You're welcome! We appreciate you taking the time to interview with us. We'll be in touch soon with our decision. \",\n",
    "    \"id\": 2\n",
    "  }\n",
    "]\n",
    "from datetime import datetime  # Import the datetime module\n"
   ]
  },
  {
   "cell_type": "code",
   "execution_count": 18,
   "metadata": {},
   "outputs": [],
   "source": [
    "def save_chat(user_id, new_chat):\n",
    "    chat_file_path = f\"/home/kunal/Documents/CognitiveBerg/USERDATA/{user_id}_chats.json\"  # Chat file name\n",
    "\n",
    "    # Check if the chat file exists\n",
    "    if os.path.exists(chat_file_path):\n",
    "        # If file exists, read the existing data\n",
    "        with open(chat_file_path, 'r') as file:\n",
    "            try:\n",
    "                chat_data = json.load(file)\n",
    "            except json.JSONDecodeError:\n",
    "                chat_data = []  # Start with an empty list if there's an error\n",
    "    else:\n",
    "        # If the file doesn't exist, start with an empty list\n",
    "        chat_data = []\n",
    "\n",
    "    # Get the current timestamp\n",
    "    timestamp = datetime.now().strftime(\"%Y-%m-%d %H:%M:%S\")\n",
    "\n",
    "    # Append new chat data with timestamp\n",
    "    chat_data.append({\n",
    "        \"message\": new_chat,\n",
    "        \"timestamp\": timestamp  # Add the current timestamp\n",
    "    })\n",
    "\n",
    "    # Write the updated data back to the file\n",
    "    with open(chat_file_path, 'w') as file:\n",
    "        json.dump(chat_data, file, indent=4)  # Indent for readability\n",
    "\n",
    "    print(f\"Chat saved for user {user_id} with timestamp {timestamp}\")"
   ]
  },
  {
   "cell_type": "code",
   "execution_count": 20,
   "metadata": {},
   "outputs": [
    {
     "name": "stdout",
     "output_type": "stream",
     "text": [
      "Chat saved for user user_2nKvfjz5RHE5JEdlpcD2h2isN0U with timestamp 2024-10-18 21:38:44\n"
     ]
    }
   ],
   "source": [
    "save_chat(user_id=\"user_2nKvfjz5RHE5JEdlpcD2h2isN0U\", new_chat=history)"
   ]
  },
  {
   "cell_type": "code",
   "execution_count": 11,
   "metadata": {},
   "outputs": [],
   "source": []
  },
  {
   "cell_type": "code",
   "execution_count": null,
   "metadata": {},
   "outputs": [],
   "source": []
  },
  {
   "cell_type": "code",
   "execution_count": null,
   "metadata": {},
   "outputs": [],
   "source": []
  }
 ],
 "metadata": {
  "kernelspec": {
   "display_name": "CB_env",
   "language": "python",
   "name": "python3"
  },
  "language_info": {
   "codemirror_mode": {
    "name": "ipython",
    "version": 3
   },
   "file_extension": ".py",
   "mimetype": "text/x-python",
   "name": "python",
   "nbconvert_exporter": "python",
   "pygments_lexer": "ipython3",
   "version": "3.12.3"
  }
 },
 "nbformat": 4,
 "nbformat_minor": 2
}
